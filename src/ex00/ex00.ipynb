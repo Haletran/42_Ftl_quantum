{
 "cells": [
  {
   "cell_type": "markdown",
   "metadata": {},
   "source": [
    "### EX01 : Providers lists\n",
    "\n",
    "Make a program that will :\n",
    "- list all available quantum simulators with their current queue\n",
    "- list all available quantum computers with their current queue and the number of qubits"
   ]
  },
  {
   "cell_type": "code",
   "execution_count": 6,
   "metadata": {},
   "outputs": [
    {
     "name": "stdout",
     "output_type": "stream",
     "text": [
      "-> Simulated quantum computers: \n",
      "No Simulated computers found...\n",
      "-> Real quantum computers: \n",
      "ibm_brisbane has 12 queues with  127 qbits\n",
      "ibm_kyiv has 6 queues with  127 qbits\n",
      "ibm_sherbrooke has 23 queues with  127 qbits\n"
     ]
    }
   ],
   "source": [
    "from qiskit_ibm_runtime import QiskitRuntimeService\n",
    " \n",
    "service = QiskitRuntimeService() \n",
    "rComp = service.backends(simulator=False, operational=True)\n",
    "sComp = service.backends(simulator=True)\n",
    "\n",
    "\n",
    "def printComputers(comp, name):\n",
    "    print(\"-> \" + name + \" quantum computers: \")\n",
    "    if len(comp) == 0:\n",
    "        print(\"No \" + name + \" computers found...\")\n",
    "        return\n",
    "    for backend in comp:\n",
    "        status = backend.status()\n",
    "        if name == \"Real\":\n",
    "            print (backend.name, \"has\", status.pending_jobs, \"queues with \",backend.num_qubits, \"qbits\")\n",
    "        else:\n",
    "            print(backend.name, \"has\", status.pending_jobs, \"queues\")\n",
    "        \n",
    "printComputers(sComp, \"Simulated\")\n",
    "printComputers(rComp, \"Real\")"
   ]
  }
 ],
 "metadata": {
  "kernelspec": {
   "display_name": "venv",
   "language": "python",
   "name": "python3"
  },
  "language_info": {
   "codemirror_mode": {
    "name": "ipython",
    "version": 3
   },
   "file_extension": ".py",
   "mimetype": "text/x-python",
   "name": "python",
   "nbconvert_exporter": "python",
   "pygments_lexer": "ipython3",
   "version": "3.11.9"
  }
 },
 "nbformat": 4,
 "nbformat_minor": 2
}
