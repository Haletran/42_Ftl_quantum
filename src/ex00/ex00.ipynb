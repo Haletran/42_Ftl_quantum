{
 "cells": [
  {
   "cell_type": "markdown",
   "metadata": {},
   "source": [
    "### EX01 : Providers lists\n",
    "\n",
    "Make a program that will :\n",
    "- list all available quantum simulators with their current queue\n",
    "- list all available quantum computers with their current queue and the number of qubits"
   ]
  },
  {
   "cell_type": "code",
   "execution_count": 1,
   "metadata": {},
   "outputs": [
    {
     "name": "stdout",
     "output_type": "stream",
     "text": [
      "66b5366fdc4614b0c4cf956b0f835e034ce19e6eb34a00da9dd45071353a033ac27f60891e6bb30786235210f03e878961918adc2bf9741a39f26cba325d5899\n",
      "-> Simulated quantum computers: \n",
      "           No Simulated computers found...\n",
      "-> Real quantum computers: \n",
      "           ibm_brisbane has 9 queues with 127 qbits\n",
      "           ibm_kyiv has 45 queues with 127 qbits\n",
      "           ibm_sherbrooke has 70 queues with 127 qbits\n"
     ]
    }
   ],
   "source": [
    "from qiskit_ibm_runtime import QiskitRuntimeService\n",
    "import os\n",
    "from dotenv import load_dotenv\n",
    "\n",
    "import os\n",
    "\n",
    "load_dotenv()\n",
    "TOKEN = os.getenv('IBMQ_TOKEN')\n",
    "\n",
    "\n",
    "print(TOKEN);\n",
    " \n",
    "service = QiskitRuntimeService(channel=\"ibm_quantum\", token=TOKEN)\n",
    "rComp = service.backends(simulator=False, operational=True)\n",
    "sComp = service.backends(simulator=True)\n",
    "\n",
    "\n",
    "def printComputers(comp, name):\n",
    "    print(\"-> \" + name + \" quantum computers: \")\n",
    "    if len(comp) == 0:\n",
    "        print(\"           No \" + name + \" computers found...\")\n",
    "        return\n",
    "    for backend in comp:\n",
    "        status = backend.status()\n",
    "        if name == \"Real\":\n",
    "            print (\"           \" + backend.name, \"has\", status.pending_jobs, \"queues with\",backend.num_qubits, \"qbits\")\n",
    "        else:\n",
    "            print(\"           \" + backend.name, \"has\", status.pending_jobs, \"queues\")\n",
    "        \n",
    "printComputers(sComp, \"Simulated\")\n",
    "printComputers(rComp, \"Real\")"
   ]
  }
 ],
 "metadata": {
  "kernelspec": {
   "display_name": "venv",
   "language": "python",
   "name": "python3"
  },
  "language_info": {
   "codemirror_mode": {
    "name": "ipython",
    "version": 3
   },
   "file_extension": ".py",
   "mimetype": "text/x-python",
   "name": "python",
   "nbconvert_exporter": "python",
   "pygments_lexer": "ipython3",
   "version": "3.11.9"
  }
 },
 "nbformat": 4,
 "nbformat_minor": 2
}
