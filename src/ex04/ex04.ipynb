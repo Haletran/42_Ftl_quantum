{
 "cells": [
  {
   "cell_type": "markdown",
   "metadata": {},
   "source": [
    "### EX04 - Deutsch-Jozsa\n",
    "\n",
    "Recreate the Deutsch-Jozsa algorithm, it should work with a total number\n",
    "of 4 qubits."
   ]
  },
  {
   "cell_type": "code",
   "execution_count": null,
   "metadata": {},
   "outputs": [
    {
     "name": "stdout",
     "output_type": "stream",
     "text": [
      "Here is the Oracle gate :                               \n",
      "q_0: ───────■─────────────────\n",
      "     ┌───┐  │       ┌───┐     \n",
      "q_1: ┤ X ├──┼────■──┤ X ├─────\n",
      "     ├───┤  │    │  └───┘┌───┐\n",
      "q_2: ┤ X ├──┼────┼────■──┤ X ├\n",
      "     └───┘┌─┴─┐┌─┴─┐┌─┴─┐└───┘\n",
      "q_3: ─────┤ X ├┤ X ├┤ X ├─────\n",
      "          └───┘└───┘└───┘     \n",
      "Oracle is of type : Balanced\n",
      "     ┌───┐     ┌─────────┐┌───┐┌─┐      \n",
      "q_0: ┤ H ├─────┤0        ├┤ H ├┤M├──────\n",
      "     ├───┤     │         │├───┤└╥┘┌─┐   \n",
      "q_1: ┤ H ├─────┤1        ├┤ H ├─╫─┤M├───\n",
      "     ├───┤     │  Oracle │├───┤ ║ └╥┘┌─┐\n",
      "q_2: ┤ H ├─────┤2        ├┤ H ├─╫──╫─┤M├\n",
      "     ├───┤┌───┐│         │└───┘ ║  ║ └╥┘\n",
      "q_3: ┤ X ├┤ H ├┤3        ├──────╫──╫──╫─\n",
      "     └───┘└───┘└─────────┘      ║  ║  ║ \n",
      "c: 3/═══════════════════════════╩══╩══╩═\n",
      "                                0  1  2 \n"
     ]
    },
    {
     "data": {
      "image/png": "[encoded data removed]",
      "text/plain": [
       "<Figure size 640x480 with 1 Axes>"
      ]
     },
     "execution_count": 3,
     "metadata": {},
     "output_type": "execute_result"
    }
   ],
   "source": [
    "from qiskit_aer import AerSimulator\n",
    "from qiskit.circuit import QuantumCircuit\n",
    "from qiskit.visualization import plot_histogram\n",
    "from random import choice\n",
    "from qiskit import transpile\n",
    "import numpy as np\n",
    "\n",
    "\n",
    "nbShots = 1000\n",
    "nbQubits = 3\n",
    "qc = QuantumCircuit(nbQubits + 1, nbQubits + 1)\n",
    "\n",
    "for i in range(0, nbQubits):\n",
    "    qc.h(i)\n",
    "\n",
    "def Oracle(n):\n",
    "    oracle_type = choice(['Constant','Balanced'])\n",
    "    gate = QuantumCircuit(n + 1)\n",
    "    if oracle_type == 'Constant':\n",
    "        output = np.random.randint(2)\n",
    "        if output == 1:\n",
    "            gate.x(n);\n",
    "    elif oracle_type == 'Balanced':\n",
    "        b = np.random.randint(1,2**n)\n",
    "        b_str = format(b, '0'+str(n)+'b')\n",
    "        for qubit in range(len(b_str)):\n",
    "            if b_str[qubit] == '1':\n",
    "                gate.x(qubit)\n",
    "        for qubit in range(n):\n",
    "            gate.cx(qubit, n)\n",
    "        for qubit in range(len(b_str)):\n",
    "            if b_str[qubit] == '1':\n",
    "                gate.x(qubit)\n",
    "    print (\"Here is the Oracle gate :\", gate)\n",
    "    gate = gate.to_gate()\n",
    "    gate.name = \"Oracle\"\n",
    "    return gate, oracle_type\n",
    "\n",
    "def algo(gate,n):\n",
    "    algo_circuit = QuantumCircuit(n + 1, n)\n",
    "    algo_circuit.x(n)\n",
    "    algo_circuit.h(n)\n",
    "    for qubit in range(n):\n",
    "        algo_circuit.h(qubit)\n",
    "\n",
    "    algo_circuit.append(gate, range(n + 1))\n",
    "    for qubit in range(n):\n",
    "        algo_circuit.h(qubit)\n",
    "    for i in range(n):\n",
    "        algo_circuit.measure(i, i)\n",
    "    return algo_circuit\n",
    "\n",
    "gate, oracle_type = Oracle(nbQubits)\n",
    "circuit = algo(gate, nbQubits)\n",
    "sim = AerSimulator()\n",
    "transpiled_dj_circuit = transpile(circuit, sim)\n",
    "counts = AerSimulator().run(circuit.decompose(), shots=nbShots).result().get_counts()\n",
    "render = {key: value / nbShots for key, value in counts.items()}\n",
    "\n",
    "print (\"Oracle is of type :\", oracle_type)\n",
    "print (circuit)\n",
    "plot_histogram(render)"
   ]
  }
 ],
 "metadata": {
  "kernelspec": {
   "display_name": "venv",
   "language": "python",
   "name": "python3"
  },
  "language_info": {
   "codemirror_mode": {
    "name": "ipython",
    "version": 3
   },
   "file_extension": ".py",
   "mimetype": "text/x-python",
   "name": "python",
   "nbconvert_exporter": "python",
   "pygments_lexer": "ipython3",
   "version": "3.11.9"
  }
 },
 "nbformat": 4,
 "nbformat_minor": 2
}
