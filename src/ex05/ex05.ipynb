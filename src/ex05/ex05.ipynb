{
 "cells": [
  {
   "cell_type": "markdown",
   "metadata": {},
   "source": [
    "### EX05 - Search algorithm\n",
    "\n",
    "Your algorithm should search for one or more items that meet a given requirement among\n",
    "N unclassified items."
   ]
  },
  {
   "cell_type": "code",
   "execution_count": null,
   "metadata": {},
   "outputs": [
    {
     "name": "stdout",
     "output_type": "stream",
     "text": [
      "       ┌───┐          \n",
      "q25_0: ┤ H ├──■───────\n",
      "       ├───┤  │       \n",
      "q25_1: ┤ H ├──■───────\n",
      "       ├───┤┌───┐┌───┐\n",
      "q25_2: ┤ H ├┤ X ├┤ X ├\n",
      "       └───┘└───┘└───┘\n",
      "c24: 3/═══════════════\n",
      "                      \n"
     ]
    }
   ],
   "source": [
    "from qiskit_aer import AerSimulator\n",
    "from qiskit.circuit import QuantumCircuit\n",
    "from qiskit.visualization import plot_histogram\n",
    "from random import choice, randint\n",
    "from qiskit import transpile, QuantumRegister, ClassicalRegister \n",
    "import numpy as np\n",
    "\n",
    "Y = 3\n",
    "# Initialize of N qubits\n",
    "qr = QuantumRegister(Y)\n",
    "cr = ClassicalRegister(Y)\n",
    "circuit = QuantumCircuit(qr, cr)\n",
    "\n",
    "# apply hadamdrd gate on all qubits\n",
    "for i in range(0, Y):\n",
    "    circuit.h(i)\n",
    "\n",
    "# generate a marked_state\n",
    "b = np.random.randint(1,2**Y)\n",
    "b_str = format(b, '0'+str(Y)+'b')\n",
    "\n",
    "\n",
    "def oracle(circuit, register, b_str):\n",
    "    for i in range(len(b_str)):\n",
    "        if b_str[i] == '1':\n",
    "            circuit.x(register[i]); # apply X gate to flip qubits \n",
    "    circuit.cz(register[0], register[1]); # apply phase flip if both quibits or |1> state\n",
    "    for i in range(len(b_str)):\n",
    "        if b_str[i] == '1':\n",
    "                circuit.x(register[i]); # revert to before stae\n",
    "\n",
    "\n",
    "oracle(circuit, qr, b_str)\n",
    "print(circuit)\n",
    "\n",
    "\n",
    "\n",
    "\n",
    "\n",
    "\n"
   ]
  },
  {
   "cell_type": "code",
   "execution_count": null,
   "metadata": {},
   "outputs": [],
   "source": []
  }
 ],
 "metadata": {
  "kernelspec": {
   "display_name": "venv",
   "language": "python",
   "name": "python3"
  },
  "language_info": {
   "codemirror_mode": {
    "name": "ipython",
    "version": 3
   },
   "file_extension": ".py",
   "mimetype": "text/x-python",
   "name": "python",
   "nbconvert_exporter": "python",
   "pygments_lexer": "ipython3",
   "version": "3.11.9"
  }
 },
 "nbformat": 4,
 "nbformat_minor": 2
}
